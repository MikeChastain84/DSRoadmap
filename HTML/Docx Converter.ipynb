{
  "nbformat": 4,
  "nbformat_minor": 0,
  "metadata": {
    "colab": {
      "provenance": []
    },
    "kernelspec": {
      "name": "python3",
      "display_name": "Python 3"
    },
    "language_info": {
      "name": "python"
    }
  },
  "cells": [
    {
      "cell_type": "code",
      "source": [
        "pip install mammoth"
      ],
      "metadata": {
        "colab": {
          "base_uri": "https://localhost:8080/"
        },
        "id": "b1EJU1nvr67y",
        "outputId": "405b4ee8-cacc-457a-dcde-9e35cbdc0c9b"
      },
      "execution_count": null,
      "outputs": [
        {
          "output_type": "stream",
          "name": "stdout",
          "text": [
            "Collecting mammoth\n",
            "  Downloading mammoth-1.8.0-py2.py3-none-any.whl.metadata (24 kB)\n",
            "Collecting cobble<0.2,>=0.1.3 (from mammoth)\n",
            "  Downloading cobble-0.1.4-py3-none-any.whl.metadata (2.7 kB)\n",
            "Downloading mammoth-1.8.0-py2.py3-none-any.whl (52 kB)\n",
            "\u001b[2K   \u001b[90m━━━━━━━━━━━━━━━━━━━━━━━━━━━━━━━━━━━━━━━━\u001b[0m \u001b[32m52.3/52.3 kB\u001b[0m \u001b[31m2.2 MB/s\u001b[0m eta \u001b[36m0:00:00\u001b[0m\n",
            "\u001b[?25hDownloading cobble-0.1.4-py3-none-any.whl (4.0 kB)\n",
            "Installing collected packages: cobble, mammoth\n",
            "Successfully installed cobble-0.1.4 mammoth-1.8.0\n"
          ]
        }
      ]
    },
    {
      "cell_type": "code",
      "execution_count": null,
      "metadata": {
        "id": "zX0P_2-crVZf"
      },
      "outputs": [],
      "source": [
        "# import mammoth\n",
        "# import os\n",
        "\n",
        "# def convert_docx_to_html(docx_path, output_dir):\n",
        "#     with open(docx_path, \"rb\") as docx_file:\n",
        "#         result = mammoth.convert_to_html(docx_file)\n",
        "#         html = result.value\n",
        "#         filename = os.path.splitext(os.path.basename(docx_path))[0] + \".html\"\n",
        "#         output_path = os.path.join(output_dir, filename)\n",
        "#         with open(output_path, \"w\", encoding=\"utf-8\") as html_file:\n",
        "#             html_file.write(html)\n",
        "\n",
        "# docx_dir = \"/content/drive/MyDrive/DTSC5502/DS Roadmap/Modules/\"  # Replace with your directory\n",
        "# output_dir = \"/content/drive/MyDrive/DTSC5502/DS Roadmap/HTML/\"  # Replace with your output directory\n",
        "# for filename in os.listdir(docx_dir):\n",
        "#     if filename.endswith(\".docx\"):\n",
        "#         docx_path = os.path.join(docx_dir, filename)\n",
        "#         convert_docx_to_html(docx_path, output_dir)"
      ]
    },
    {
      "cell_type": "code",
      "source": [
        "# import requests\n",
        "\n",
        "# def generate_htmlpreview_links(repo_owner, repo_name, path, output_filename):\n",
        "#     \"\"\"\n",
        "#     Generates htmlpreview.github.io links for HTML files in a GitHub repository\n",
        "#     and saves them to a file.\n",
        "\n",
        "#     Args:\n",
        "#         repo_owner: The owner of the repository (your username).\n",
        "#         repo_name: The name of the repository.\n",
        "#         path: The path to the directory containing the HTML files (e.g., \"docs\").\n",
        "#         output_filename: The name of the file to save the links to.\n",
        "#     \"\"\"\n",
        "\n",
        "#     api_url = f\"https://api.github.com/repos/{repo_owner}/{repo_name}/contents/{path}\"\n",
        "#     response = requests.get(api_url)\n",
        "#     files = response.json()\n",
        "\n",
        "#     with open(output_filename, \"w\") as output_file:\n",
        "#         for file in files:\n",
        "#             if file[\"name\"].endswith(\".html\"):\n",
        "#                 raw_url = file[\"download_url\"]\n",
        "#                 preview_link = f\"https://htmlpreview.github.io/?{raw_url}\"\n",
        "#                 output_file.write(f\"- [{file['name']}]({preview_link})\\n\")  # Markdown links\n",
        "\n",
        "# if __name__ == \"__main__\":\n",
        "#     repo_owner = \"gitmystuff\"  # Replace with your GitHub username\n",
        "#     repo_name = \"DSRoadmap\"  # Replace with your repository name\n",
        "#     path = \"HTML\"  # Replace with the directory containing your HTML files\n",
        "#     output_filename = \"html_preview_links.md\"  # Name of the output file\n",
        "\n",
        "#     generate_htmlpreview_links(repo_owner, repo_name, path, output_filename)"
      ],
      "metadata": {
        "id": "e-poUaiwvLcu"
      },
      "execution_count": null,
      "outputs": []
    }
  ]
}